{
  "nbformat": 4,
  "nbformat_minor": 0,
  "metadata": {
    "colab": {
      "provenance": [],
      "authorship_tag": "ABX9TyNR8/rAPBYn+X28KlOquh2v",
      "include_colab_link": true
    },
    "kernelspec": {
      "name": "python3",
      "display_name": "Python 3"
    },
    "language_info": {
      "name": "python"
    }
  },
  "cells": [
    {
      "cell_type": "markdown",
      "metadata": {
        "id": "view-in-github",
        "colab_type": "text"
      },
      "source": [
        "<a href=\"https://colab.research.google.com/github/khoulafaheem/khoulafaheem/blob/main/03_project_function_calling.ipynb\" target=\"_parent\"><img src=\"https://colab.research.google.com/assets/colab-badge.svg\" alt=\"Open In Colab\"/></a>"
      ]
    },
    {
      "cell_type": "markdown",
      "source": [
        "# **Project 03: Khoula’s Calculator Agent**"
      ],
      "metadata": {
        "id": "vAyU-V_kVuWq"
      }
    },
    {
      "cell_type": "markdown",
      "source": [
        "**Table of Contents**\n",
        "\n",
        "\n",
        "\n",
        "*   Overview\n",
        "*   Features\n",
        "*   Main Components\n",
        "*   Code Implementation\n",
        "*   Tool Definitions\n",
        "*   Tool Set  \n",
        "*   Agent Implementation\n",
        "*  Running the Agent\n",
        "\n",
        "\n",
        "\n",
        "---\n",
        "\n",
        "\n",
        "\n",
        "\n"
      ],
      "metadata": {
        "id": "kOg4sUfTWAfq"
      }
    },
    {
      "cell_type": "markdown",
      "source": [
        "**Overview**\n",
        "\n",
        "This project is Khoula's Calculator Agent, an intelligent agent that performs arithmetic operations and provides information about its creator using LangChain and Google Gemini LLM. The agent interacts with the user through natural language queries, making it both useful and engaging.\n",
        "\n",
        "\n",
        "---\n",
        "\n"
      ],
      "metadata": {
        "id": "qfESaenMXV1M"
      }
    },
    {
      "cell_type": "markdown",
      "source": [
        "**Features**\n",
        "\n",
        "\n",
        "*   **Arithmetic Operations**:  Supports addition, subtraction, multiplication, and division of integers.\n",
        "*   **Information Retrieval**: Provides insights about khoula, including her work, projects, and skills.\n",
        "\n",
        "*   **Interactive Interface**: Allows users to interact by typing queries and getting intelligent responses in real-time.\n",
        "\n",
        "\n",
        "---\n",
        "\n",
        "\n",
        "\n",
        "\n"
      ],
      "metadata": {
        "id": "5FBiY6T3XvaT"
      }
    },
    {
      "cell_type": "markdown",
      "source": [
        "**Main Components**\n",
        "\n",
        "\n",
        "*   **Arithmetic Tools**: These tools perform fundamental arithmetic operations:\n",
        "\n",
        "\n",
        "\n",
        "1.   Addition Tool: Adds two integers.\n",
        "2.   Subtraction Tool: Subtracts one integer from another.\n",
        "1.  Multiplication Tool: Multiplies two integers.\n",
        "2.  Division Tool: Divides one integer by another.\n",
        "\n",
        "\n",
        "\n",
        "*   **Information Tools:**\n",
        "\n",
        "\n",
        "\n",
        "1.   Introduction Tool: Provides an overview of khoula.\n",
        "2.   Creator Tool: Shares information about the agent's creator.\n",
        "\n",
        "\n",
        "*   **Goodbye Tool**: A simple tool that stops the agent and provides a farewell message.\n",
        "\n",
        "\n",
        "\n",
        "\n",
        "\n",
        "\n"
      ],
      "metadata": {
        "id": "kLkI993XYsCF"
      }
    },
    {
      "cell_type": "markdown",
      "source": [
        "**Code Implementation**\n",
        "\n",
        "Below is the core implementation using LangChain and Google Gemini LLM.\n",
        "\n",
        "from google.colab import userdata\n",
        "import os\n",
        "\n",
        "os.environ['GOOGLE_API_KEY'] = userdata.get('GEMINI_API_KEY')\n",
        "\n",
        "from langchain_google_genai import ChatGoogleGenerativeAI\n",
        "\n",
        "llm = ChatGoogleGenerativeAI(model='gemini-1.5-flash', verbose=True)\n",
        "\n",
        "# Example Invocation:\n",
        "response = llm.invoke(\"Who is Khoula?\")\n",
        "print(response.content)"
      ],
      "metadata": {
        "id": "Ex17jvKUamR2"
      }
    },
    {
      "cell_type": "code",
      "source": [
        "!pip install -q -U langchain langchain_community langchain_google_genai"
      ],
      "metadata": {
        "colab": {
          "base_uri": "https://localhost:8080/"
        },
        "id": "Fxt0B-2SbFe_",
        "outputId": "aa9815e8-5b08-4eaa-d939-b156b2700f63"
      },
      "execution_count": 1,
      "outputs": [
        {
          "output_type": "stream",
          "name": "stdout",
          "text": [
            "\u001b[2K   \u001b[90m━━━━━━━━━━━━━━━━━━━━━━━━━━━━━━━━━━━━━━━━\u001b[0m \u001b[32m2.5/2.5 MB\u001b[0m \u001b[31m13.5 MB/s\u001b[0m eta \u001b[36m0:00:00\u001b[0m\n",
            "\u001b[2K   \u001b[90m━━━━━━━━━━━━━━━━━━━━━━━━━━━━━━━━━━━━━━━━\u001b[0m \u001b[32m41.5/41.5 kB\u001b[0m \u001b[31m2.0 MB/s\u001b[0m eta \u001b[36m0:00:00\u001b[0m\n",
            "\u001b[2K   \u001b[90m━━━━━━━━━━━━━━━━━━━━━━━━━━━━━━━━━━━━━━━━\u001b[0m \u001b[32m49.6/49.6 kB\u001b[0m \u001b[31m2.7 MB/s\u001b[0m eta \u001b[36m0:00:00\u001b[0m\n",
            "\u001b[?25h"
          ]
        }
      ]
    },
    {
      "cell_type": "code",
      "source": [
        "from google.colab import userdata\n",
        "import os\n",
        "\n",
        "os.environ['GOOGLE_API_KEY'] = userdata.get('my_api_key5')"
      ],
      "metadata": {
        "id": "E3luhwEwbazX"
      },
      "execution_count": 2,
      "outputs": []
    },
    {
      "cell_type": "code",
      "source": [
        "from langchain_google_genai import ChatGoogleGenerativeAI\n",
        "\n",
        "llm=ChatGoogleGenerativeAI(model=\"gemini-2.0-flash-exp\",verbose=True)\n",
        "\n",
        "llm.invoke(\"Who is Khoula?\").content"
      ],
      "metadata": {
        "colab": {
          "base_uri": "https://localhost:8080/",
          "height": 109
        },
        "id": "iP5PCglScUYW",
        "outputId": "d8c9c72c-8977-44d2-c398-932281909bb7"
      },
      "execution_count": 3,
      "outputs": [
        {
          "output_type": "execute_result",
          "data": {
            "text/plain": [
              "'Khoula is a relatively common name in Arabic, and there are several notable women throughout history and in modern times who bear this name. Therefore, it\\'s important to consider the context to determine which \"Khoula\" you\\'re referring to. Here are some of the most well-known figures named Khoula:\\n\\n**1. Khawla bint al-Azwar (or Khoula bint al-Azwar):**\\n\\n* **Historical Figure:** This is arguably the most famous Khoula, and when someone says \"Khoula,\" they are often referring to her. She was a legendary female Muslim warrior from the early Islamic era, known for her bravery and skill on the battlefield.\\n* **Time Period:** She lived during the 7th century CE, around the time of the early Islamic conquests.\\n* **Key Facts:**\\n    * She is said to have fought alongside her brother, Dirar ibn al-Azwar, in several battles.\\n    * She was known for her black veil and her fierce fighting style.\\n    * Stories about her heroism and bravery are popular in Islamic history and folklore.\\n    * Some historians question the extent of her legendary status, but her story remains a powerful symbol of female strength and courage.\\n* **Why she\\'s significant:** She is a powerful symbol of female agency and bravery in a time when women were often not associated with military prowess.\\n\\n**2. Other Notable Khoulas:**\\n\\n* **Khoula Mattar:** A Bahraini human rights activist and writer.\\n* **Khoula Al-Krizi:** A Canadian-Iraqi architect and artist.\\n* **Khoula Al-Mazroui:** An Emirati artist.\\n\\n**To give you the most accurate answer, I need more context. Could you tell me:**\\n\\n* **What are you interested in knowing about Khoula?** For example, are you interested in historical figures, modern artists, or something else?\\n* **Where did you hear about Khoula?** This might provide a clue about which Khoula you are referring to.\\n\\n**In summary, if you\\'re looking for the most famous and legendary \"Khoula,\" you\\'re likely thinking of Khawla bint al-Azwar, the Muslim warrior. However, there are other notable women with this name, so clarifying your context will help me provide a more precise answer.**'"
            ],
            "application/vnd.google.colaboratory.intrinsic+json": {
              "type": "string"
            }
          },
          "metadata": {},
          "execution_count": 3
        }
      ]
    },
    {
      "cell_type": "code",
      "source": [
        "from langchain.tools import Tool\n",
        "from langchain_core.tools import tool\n",
        "\n",
        "@tool\n",
        "def add(a: int, b: int) -> int:\n",
        "    \"\"\"Add two integers.\"\"\"\n",
        "    print(\"Tool Message:  Addition Tool is Called!\")\n",
        "    print(\"=\"*40)\n",
        "    return a + b\n",
        "@tool\n",
        "def subtract(a: int, b: int) -> int:\n",
        "    \"\"\"Subtract two integers.\"\"\"\n",
        "    print(\"Tool Message:  Subtraction Tool is Called!\")\n",
        "    print(\"=\"*40)\n",
        "    return a - b\n",
        "@tool\n",
        "def multiply(a: int, b: int) -> int:\n",
        "    \"\"\"Multiply two integers.\"\"\"\n",
        "    print(\"Tool Message:  Multiplication Tool is Called!\")\n",
        "    print(\"=\"*40)\n",
        "    return a * b\n",
        "@tool\n",
        "def divide(a: int, b: int) -> float:\n",
        "    \"\"\"Divide two integers.\"\"\"\n",
        "    print(\"Tool Message:  Division Tool is Called!\")\n",
        "    print(\"=\"*40)\n",
        "    if b == 0:\n",
        "        return \"Error: Division by zero is not allowed.\"\n",
        "    return a / b\n",
        "@tool\n",
        "def intro(input_str: str = \"\") -> str:\n",
        "    \"\"\"Provide Khoula's introduction.\"\"\"\n",
        "    print(\"Tool Message:  Introduction Tool is Called!\")\n",
        "    print(\"=\"*40)\n",
        "    return (\n",
        "        \"\"\"Khoula faheem is a skilled web developer and programmer with a passion for creating dynamic, user-focused projects.\n",
        "        Here is Her Linkedin Profile: https://www.linkedin.com/in/khoula-faheem-14a657304/\n",
        "        Her portfolio features innovative Python projects and AI solutions, including a chatbot built with LangChain and Google Gemini LLM.\n",
        "        she is exploring Agentic AI and intelligent agents, driving advancements in automation and artificial intelligence.\"\"\"\n",
        "    )\n",
        "@tool\n",
        "def creator(input_str: str = \"\") -> str:\n",
        "    \"\"\"Provide Khoula's introduction.\"\"\"\n",
        "    print(\"Tool Message:  Developer Detailes Tool is Called!\")\n",
        "    print(\"=\"*40)\n",
        "    return (\n",
        "        \"\"\"I am a Calculator Agent Developed By Khoula Faheem.\n",
        "        If You Want to know About Khoula Faheem Then Type Who Is Khoula\n",
        "    \"\"\"\n",
        "    )\n",
        "\n",
        "@tool\n",
        "def goodbye(input_str: str = \"\") -> str:\n",
        "    \"\"\"Stop the Agent.\"\"\"\n",
        "    print(\"Tool Message:  Good Bye Tool is Called!\")\n",
        "    print(\"=\"*40)\n",
        "    return\n",
        "    print(\"Goodbye! Thanks for your visit. Come again...\")\n",
        "\n",
        "@tool\n",
        "def give_social_accounts(input_str: str = \"\") -> str:\n",
        "    \"\"\"Provide Khoula's social accounts.\"\"\"\n",
        "    print(\"Tool Message:  Contact Detailes Tool is Called!\")\n",
        "    print(\"=\"*40)\n",
        "    return (\n",
        "        \"\"\"\n",
        "        Khoula's Linkedin: https://www.linkedin.com/in/khoula-faheem-14a657304/\n",
        "        Khoula's Github: https://github.com/khoulafaheem\n",
        "        Khoula's Email Address: khoulafaheem@gmail.com\n",
        "        \"\"\"\n",
        "    )\n",
        ""
      ],
      "metadata": {
        "id": "W75zuMcKdOBn"
      },
      "execution_count": 4,
      "outputs": []
    },
    {
      "cell_type": "code",
      "source": [
        "tools = [\n",
        "    add,\n",
        "    subtract,\n",
        "    multiply,\n",
        "    divide,\n",
        "    intro,\n",
        "    creator,\n",
        "    goodbye,\n",
        "    give_social_accounts\n",
        "]"
      ],
      "metadata": {
        "id": "PhXxzJF4fomR"
      },
      "execution_count": 5,
      "outputs": []
    },
    {
      "cell_type": "code",
      "source": [
        "from langchain.agents import initialize_agent, AgentType\n",
        "\n",
        "# Initialize the agent\n",
        "agent = initialize_agent(\n",
        "    tools,                        # Provide the tools\n",
        "    llm,                            # LLM for fallback\n",
        "    agent=AgentType.STRUCTURED_CHAT_ZERO_SHOT_REACT_DESCRIPTION,\n",
        "    max_iterations=50,\n",
        "    # verbose=True                        # Enable debugging output\n",
        ")\n"
      ],
      "metadata": {
        "colab": {
          "base_uri": "https://localhost:8080/"
        },
        "id": "A2AIAMlofq5B",
        "outputId": "71858b19-1749-4e75-f130-1dd84f37255e"
      },
      "execution_count": 6,
      "outputs": [
        {
          "output_type": "stream",
          "name": "stderr",
          "text": [
            "<ipython-input-6-c5358197b741>:4: LangChainDeprecationWarning: LangChain agents will continue to be supported, but it is recommended for new use cases to be built with LangGraph. LangGraph offers a more flexible and full-featured framework for building agents, including support for tool-calling, persistence of state, and human-in-the-loop workflows. For details, refer to the `LangGraph documentation <https://langchain-ai.github.io/langgraph/>`_ as well as guides for `Migrating from AgentExecutor <https://python.langchain.com/docs/how_to/migrate_agent/>`_ and LangGraph's `Pre-built ReAct agent <https://langchain-ai.github.io/langgraph/how-tos/create-react-agent/>`_.\n",
            "  agent = initialize_agent(\n"
          ]
        }
      ]
    },
    {
      "cell_type": "code",
      "source": [
        "print(\"Welcome To Khoula's Coding World\")\n",
        "print(\"=\" * 40)\n",
        "print(\"I am a Calculator Agent, and I also have information about my Creator....\")\n",
        "\n",
        "while True:\n",
        "    user_query = input(\"Ask your query (type 'exit' or 'goodbye' to end): \").strip().lower()\n",
        "    print(f\"Human Message: {user_query}\")\n",
        "    print(\"=\" * 40)\n",
        "    if user_query in [\"exit\", \"i have to go\", \"goodbye\", \"please stop\", \"end\"]:\n",
        "        print(\"Agent Response: Goodbye! Thanks for your visit. Come again...\")\n",
        "        print(\"=\" * 40)\n",
        "        break\n",
        "    try:\n",
        "        # Adjust the input dictionary to match the expected key\n",
        "\n",
        "        response = agent.invoke({\"input\": user_query})  # 'input' key in lowercase\n",
        "        print(f\"Agent Response: {response.get('output', 'No output available')}\")  # Safely access the response output\n",
        "        print(\"=\" * 40)\n",
        "    except Exception as e:\n",
        "        print(f\"An error occurred: {e}\")"
      ],
      "metadata": {
        "colab": {
          "base_uri": "https://localhost:8080/"
        },
        "id": "-bWf2kgmf1yR",
        "outputId": "9562f972-bd50-438e-c985-f2c882aba2c7"
      },
      "execution_count": 7,
      "outputs": [
        {
          "output_type": "stream",
          "name": "stdout",
          "text": [
            "Welcome To Khoula's Coding World\n",
            "========================================\n",
            "I am a Calculator Agent, and I also have information about my Creator....\n",
            "Ask your query (type 'exit' or 'goodbye' to end): 2 addition 2\n",
            "Human Message: 2 addition 2\n",
            "========================================\n",
            "Tool Message:  Addition Tool is Called!\n",
            "========================================\n",
            "Agent Response: The sum of 2 and 2 is 4.\n",
            "========================================\n",
            "Ask your query (type 'exit' or 'goodbye' to end): 15 subtract 4\n",
            "Human Message: 15 subtract 4\n",
            "========================================\n",
            "Tool Message:  Subtraction Tool is Called!\n",
            "========================================\n",
            "Agent Response: 11\n",
            "========================================\n",
            "Ask your query (type 'exit' or 'goodbye' to end): 50 multiply 40\n",
            "Human Message: 50 multiply 40\n",
            "========================================\n",
            "Tool Message:  Multiplication Tool is Called!\n",
            "========================================\n",
            "Agent Response: The result of 50 multiplied by 40 is 2000.\n",
            "========================================\n",
            "Ask your query (type 'exit' or 'goodbye' to end): who khoula is\n",
            "Human Message: who khoula is\n",
            "========================================\n",
            "Tool Message:  Introduction Tool is Called!\n",
            "========================================\n",
            "Agent Response: Khoula faheem is a skilled web developer and programmer with a passion for creating dynamic, user-focused projects. Her portfolio features innovative Python projects and AI solutions, including a chatbot built with LangChain and Google Gemini LLM. She is also exploring Agentic AI and intelligent agents. Here is Her Linkedin Profile: https://www.linkedin.com/in/khoula-faheem-14a657304/\n",
            "========================================\n",
            "Ask your query (type 'exit' or 'goodbye' to end): goodbye\n",
            "Human Message: goodbye\n",
            "========================================\n",
            "Agent Response: Goodbye! Thanks for your visit. Come again...\n",
            "========================================\n"
          ]
        }
      ]
    }
  ]
}